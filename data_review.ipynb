{
 "cells": [
  {
   "cell_type": "markdown",
   "metadata": {},
   "source": [
    "__Defining model VGG3 with dropout__"
   ]
  },
  {
   "cell_type": "code",
   "execution_count": 49,
   "metadata": {},
   "outputs": [],
   "source": [
    "from keras import Sequential\n",
    "from keras.layers import Dense, Conv2D, MaxPooling2D, Flatten, Dropout\n",
    "from keras.optimizers import RMSprop\n",
    "from keras import layers\n",
    "import tensorflow as tf\n",
    "\n",
    "\n",
    "def define_model():\n",
    "\tmodel = Sequential([\n",
    "    layers.Conv2D(16, (3,3), activation='selu', input_shape=(200,200,3)),\n",
    "    layers.MaxPool2D(2,2),\n",
    "    layers.Conv2D(32, (3,3), activation='selu'),\n",
    "    layers.MaxPool2D(2,2),\n",
    "    layers.Dropout(0.05),\n",
    "     \n",
    "    layers.Conv2D(64, (3,3), activation='selu'),\n",
    "    layers.MaxPool2D(2,2),\n",
    "    layers.Dropout(0.1),\n",
    "\t\n",
    "    layers.Conv2D(128, (2,2), activation='selu'),\n",
    "    layers.MaxPool2D(2,2),\n",
    "    layers.Conv2D(256, (2,2), activation='selu'),\n",
    "    layers.MaxPool2D(2,2),\n",
    "    layers.Dropout(0.2),\n",
    "\t\n",
    "    layers.Flatten(),\n",
    "    layers.Dense(500, activation='selu'),\n",
    " \n",
    "    layers.Dense(1, activation='sigmoid')                        \n",
    "])\n",
    "\tmodel.compile(loss='binary_crossentropy',\n",
    "            optimizer = RMSprop(learning_rate=0.001),\n",
    "            #optimizer=tf.keras.optimizers.Adam(learning_rate=0.000244),\n",
    "             metrics = ['binary_accuracy'])\n",
    "\tmodel_checkpoint_callback = tf.keras.callbacks.ModelCheckpoint(\n",
    "\tfilepath = \"model_checkp.keras\",\n",
    "    monitor='val_binary_accuracy',\n",
    "    mode='max',\n",
    "    save_best_only=True)\n",
    "\treturn model\n",
    "\n",
    "model = define_model()"
   ]
  },
  {
   "cell_type": "markdown",
   "metadata": {},
   "source": [
    "__Creating data-generator__"
   ]
  },
  {
   "cell_type": "markdown",
   "metadata": {},
   "source": [
    "to rescale and categorize images using shifts and horizontal flip "
   ]
  },
  {
   "cell_type": "code",
   "execution_count": 50,
   "metadata": {},
   "outputs": [
    {
     "name": "stdout",
     "output_type": "stream",
     "text": [
      "Found 19911 images belonging to 2 classes.\n",
      "Found 5089 images belonging to 2 classes.\n"
     ]
    }
   ],
   "source": [
    "from tensorflow.keras.preprocessing.image import ImageDataGenerator\n",
    "# Создаем DataGen который будет каждый пиксель нормализовать от 0 до 1\n",
    "datagen = ImageDataGenerator(rescale=1.0/255.0, \n",
    "                             width_shift_range=0.2, height_shift_range=0.2, \n",
    "                             horizontal_flip=True)\n",
    "\n",
    "train_gen = datagen.flow_from_directory(\n",
    "    'train/',\n",
    "    target_size=(200, 200),\n",
    "    batch_size=64,\n",
    "    class_mode='binary')\n",
    "test_gen  = datagen.flow_from_directory(\n",
    "    'test/',\n",
    "\tclass_mode='binary', \n",
    "    batch_size=64,\n",
    "    target_size=(200, 200))"
   ]
  },
  {
   "cell_type": "markdown",
   "metadata": {},
   "source": [
    "__Fitting model and checking acc__"
   ]
  },
  {
   "cell_type": "code",
   "execution_count": 52,
   "metadata": {},
   "outputs": [
    {
     "name": "stdout",
     "output_type": "stream",
     "text": [
      "Epoch 1/20\n",
      "\u001b[1m312/312\u001b[0m \u001b[32m━━━━━━━━━━━━━━━━━━━━\u001b[0m\u001b[37m\u001b[0m \u001b[1m170s\u001b[0m 539ms/step - binary_accuracy: 0.6279 - loss: 0.6661 - val_binary_accuracy: 0.6826 - val_loss: 0.6054\n",
      "Epoch 2/20\n",
      "\u001b[1m312/312\u001b[0m \u001b[32m━━━━━━━━━━━━━━━━━━━━\u001b[0m\u001b[37m\u001b[0m \u001b[1m0s\u001b[0m 37us/step - binary_accuracy: 0.0000e+00 - loss: 0.0000e+00 - val_binary_accuracy: 0.0000e+00 - val_loss: 0.0000e+00\n",
      "Epoch 3/20\n",
      "\u001b[1m312/312\u001b[0m \u001b[32m━━━━━━━━━━━━━━━━━━━━\u001b[0m\u001b[37m\u001b[0m \u001b[1m169s\u001b[0m 535ms/step - binary_accuracy: 0.6245 - loss: 0.7585 - val_binary_accuracy: 0.6885 - val_loss: 0.5782\n",
      "Epoch 4/20\n",
      "\u001b[1m312/312\u001b[0m \u001b[32m━━━━━━━━━━━━━━━━━━━━\u001b[0m\u001b[37m\u001b[0m \u001b[1m0s\u001b[0m 47us/step - binary_accuracy: 0.0000e+00 - loss: 0.0000e+00 - val_binary_accuracy: 0.0000e+00 - val_loss: 0.0000e+00\n",
      "Epoch 5/20\n",
      "\u001b[1m312/312\u001b[0m \u001b[32m━━━━━━━━━━━━━━━━━━━━\u001b[0m\u001b[37m\u001b[0m \u001b[1m169s\u001b[0m 537ms/step - binary_accuracy: 0.6653 - loss: 0.6180 - val_binary_accuracy: 0.5769 - val_loss: 0.7706\n",
      "Epoch 6/20\n",
      "\u001b[1m312/312\u001b[0m \u001b[32m━━━━━━━━━━━━━━━━━━━━\u001b[0m\u001b[37m\u001b[0m \u001b[1m0s\u001b[0m 41us/step - binary_accuracy: 0.0000e+00 - loss: 0.0000e+00 - val_binary_accuracy: 0.0000e+00 - val_loss: 0.0000e+00\n",
      "Epoch 7/20\n",
      "\u001b[1m312/312\u001b[0m \u001b[32m━━━━━━━━━━━━━━━━━━━━\u001b[0m\u001b[37m\u001b[0m \u001b[1m168s\u001b[0m 534ms/step - binary_accuracy: 0.6915 - loss: 0.5884 - val_binary_accuracy: 0.7444 - val_loss: 0.5264\n",
      "Epoch 8/20\n",
      "\u001b[1m312/312\u001b[0m \u001b[32m━━━━━━━━━━━━━━━━━━━━\u001b[0m\u001b[37m\u001b[0m \u001b[1m0s\u001b[0m 44us/step - binary_accuracy: 0.0000e+00 - loss: 0.0000e+00 - val_binary_accuracy: 0.0000e+00 - val_loss: 0.0000e+00\n",
      "Epoch 9/20\n",
      "\u001b[1m312/312\u001b[0m \u001b[32m━━━━━━━━━━━━━━━━━━━━\u001b[0m\u001b[37m\u001b[0m \u001b[1m169s\u001b[0m 536ms/step - binary_accuracy: 0.7184 - loss: 0.5614 - val_binary_accuracy: 0.7278 - val_loss: 0.5472\n",
      "Epoch 10/20\n",
      "\u001b[1m312/312\u001b[0m \u001b[32m━━━━━━━━━━━━━━━━━━━━\u001b[0m\u001b[37m\u001b[0m \u001b[1m0s\u001b[0m 41us/step - binary_accuracy: 0.0000e+00 - loss: 0.0000e+00 - val_binary_accuracy: 0.0000e+00 - val_loss: 0.0000e+00\n",
      "Epoch 11/20\n",
      "\u001b[1m312/312\u001b[0m \u001b[32m━━━━━━━━━━━━━━━━━━━━\u001b[0m\u001b[37m\u001b[0m \u001b[1m169s\u001b[0m 535ms/step - binary_accuracy: 0.7322 - loss: 0.5938 - val_binary_accuracy: 0.7630 - val_loss: 0.4778\n",
      "Epoch 12/20\n",
      "\u001b[1m312/312\u001b[0m \u001b[32m━━━━━━━━━━━━━━━━━━━━\u001b[0m\u001b[37m\u001b[0m \u001b[1m0s\u001b[0m 41us/step - binary_accuracy: 0.0000e+00 - loss: 0.0000e+00 - val_binary_accuracy: 0.0000e+00 - val_loss: 0.0000e+00\n",
      "Epoch 13/20\n",
      "\u001b[1m312/312\u001b[0m \u001b[32m━━━━━━━━━━━━━━━━━━━━\u001b[0m\u001b[37m\u001b[0m \u001b[1m195s\u001b[0m 618ms/step - binary_accuracy: 0.7586 - loss: 0.5017 - val_binary_accuracy: 0.7805 - val_loss: 0.4773\n",
      "Epoch 14/20\n",
      "\u001b[1m312/312\u001b[0m \u001b[32m━━━━━━━━━━━━━━━━━━━━\u001b[0m\u001b[37m\u001b[0m \u001b[1m0s\u001b[0m 38us/step - binary_accuracy: 0.0000e+00 - loss: 0.0000e+00 - val_binary_accuracy: 0.0000e+00 - val_loss: 0.0000e+00\n",
      "Epoch 15/20\n",
      "\u001b[1m312/312\u001b[0m \u001b[32m━━━━━━━━━━━━━━━━━━━━\u001b[0m\u001b[37m\u001b[0m \u001b[1m169s\u001b[0m 534ms/step - binary_accuracy: 0.7654 - loss: 0.4859 - val_binary_accuracy: 0.8025 - val_loss: 0.4249\n",
      "Epoch 16/20\n",
      "\u001b[1m312/312\u001b[0m \u001b[32m━━━━━━━━━━━━━━━━━━━━\u001b[0m\u001b[37m\u001b[0m \u001b[1m0s\u001b[0m 40us/step - binary_accuracy: 0.0000e+00 - loss: 0.0000e+00 - val_binary_accuracy: 0.0000e+00 - val_loss: 0.0000e+00\n",
      "Epoch 17/20\n",
      "\u001b[1m312/312\u001b[0m \u001b[32m━━━━━━━━━━━━━━━━━━━━\u001b[0m\u001b[37m\u001b[0m \u001b[1m170s\u001b[0m 538ms/step - binary_accuracy: 0.7799 - loss: 0.4659 - val_binary_accuracy: 0.8070 - val_loss: 0.4141\n",
      "Epoch 18/20\n",
      "\u001b[1m312/312\u001b[0m \u001b[32m━━━━━━━━━━━━━━━━━━━━\u001b[0m\u001b[37m\u001b[0m \u001b[1m0s\u001b[0m 47us/step - binary_accuracy: 0.0000e+00 - loss: 0.0000e+00 - val_binary_accuracy: 0.0000e+00 - val_loss: 0.0000e+00\n",
      "Epoch 19/20\n",
      "\u001b[1m312/312\u001b[0m \u001b[32m━━━━━━━━━━━━━━━━━━━━\u001b[0m\u001b[37m\u001b[0m \u001b[1m169s\u001b[0m 535ms/step - binary_accuracy: 0.7920 - loss: 0.4453 - val_binary_accuracy: 0.8127 - val_loss: 0.4158\n",
      "Epoch 20/20\n",
      "\u001b[1m312/312\u001b[0m \u001b[32m━━━━━━━━━━━━━━━━━━━━\u001b[0m\u001b[37m\u001b[0m \u001b[1m0s\u001b[0m 40us/step - binary_accuracy: 0.0000e+00 - loss: 0.0000e+00 - val_binary_accuracy: 0.0000e+00 - val_loss: 0.0000e+00\n"
     ]
    },
    {
     "data": {
      "text/plain": [
       "'> 81.332'"
      ]
     },
     "execution_count": 52,
     "metadata": {},
     "output_type": "execute_result"
    }
   ],
   "source": [
    "history = model.fit(train_gen, steps_per_epoch=len(train_gen),\n",
    "\tvalidation_data=test_gen, validation_steps=len(test_gen), epochs=20, verbose=1)\n",
    "_, acc = model.evaluate(test_gen, steps=len(test_gen), verbose=0)\n",
    "'> %.3f' % (acc * 100.0)\n",
    "#3 эпохи 50%"
   ]
  },
  {
   "cell_type": "code",
   "execution_count": 53,
   "metadata": {},
   "outputs": [
    {
     "name": "stderr",
     "output_type": "stream",
     "text": [
      "WARNING:absl:You are saving your model as an HDF5 file via `model.save()` or `keras.saving.save_model(model)`. This file format is considered legacy. We recommend using instead the native Keras format, e.g. `model.save('my_model.keras')` or `keras.saving.save_model(model, 'my_model.keras')`. \n"
     ]
    }
   ],
   "source": [
    "model.save('cat_or_dog_img_classifier.h5')"
   ]
  }
 ],
 "metadata": {
  "kernelspec": {
   "display_name": "Python 3",
   "language": "python",
   "name": "python3"
  },
  "language_info": {
   "codemirror_mode": {
    "name": "ipython",
    "version": 3
   },
   "file_extension": ".py",
   "mimetype": "text/x-python",
   "name": "python",
   "nbconvert_exporter": "python",
   "pygments_lexer": "ipython3",
   "version": "3.11.9"
  }
 },
 "nbformat": 4,
 "nbformat_minor": 2
}
